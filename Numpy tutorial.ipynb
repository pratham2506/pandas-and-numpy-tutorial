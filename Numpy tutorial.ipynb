{
 "cells": [
  {
   "cell_type": "code",
   "execution_count": 2,
   "id": "b9363cac",
   "metadata": {},
   "outputs": [],
   "source": [
    "import numpy as np"
   ]
  },
  {
   "cell_type": "code",
   "execution_count": 3,
   "id": "7a0b590f",
   "metadata": {},
   "outputs": [
    {
     "data": {
      "text/plain": [
       "array([1, 2, 3, 4])"
      ]
     },
     "execution_count": 3,
     "metadata": {},
     "output_type": "execute_result"
    }
   ],
   "source": [
    "n1 = np.array([1,2,3,4])\n",
    "n1"
   ]
  },
  {
   "cell_type": "code",
   "execution_count": 4,
   "id": "f0c9db9b",
   "metadata": {},
   "outputs": [
    {
     "data": {
      "text/plain": [
       "numpy.ndarray"
      ]
     },
     "execution_count": 4,
     "metadata": {},
     "output_type": "execute_result"
    }
   ],
   "source": [
    "type(n1)"
   ]
  },
  {
   "cell_type": "code",
   "execution_count": 5,
   "id": "a9ffb9d6",
   "metadata": {},
   "outputs": [
    {
     "data": {
      "text/plain": [
       "array([[ 1,  2,  3,  4,  5],\n",
       "       [10, 20, 30, 40, 50]])"
      ]
     },
     "execution_count": 5,
     "metadata": {},
     "output_type": "execute_result"
    }
   ],
   "source": [
    "n2 = np.array([[1,2,3,4,5],[10,20,30,40,50]])\n",
    "n2"
   ]
  },
  {
   "cell_type": "code",
   "execution_count": 6,
   "id": "da3a93a1",
   "metadata": {},
   "outputs": [
    {
     "data": {
      "text/plain": [
       "numpy.ndarray"
      ]
     },
     "execution_count": 6,
     "metadata": {},
     "output_type": "execute_result"
    }
   ],
   "source": [
    "type(n2)"
   ]
  },
  {
   "cell_type": "code",
   "execution_count": 8,
   "id": "a79f3d44",
   "metadata": {},
   "outputs": [
    {
     "data": {
      "text/plain": [
       "array([[0., 0., 0.],\n",
       "       [0., 0., 0.]])"
      ]
     },
     "execution_count": 8,
     "metadata": {},
     "output_type": "execute_result"
    }
   ],
   "source": [
    "#zeros method\n",
    "n3 = np.zeros((2,3))\n",
    "n3"
   ]
  },
  {
   "cell_type": "code",
   "execution_count": 9,
   "id": "1a7fe8c9",
   "metadata": {},
   "outputs": [
    {
     "data": {
      "text/plain": [
       "array([[0., 0., 0., 0., 0., 0.],\n",
       "       [0., 0., 0., 0., 0., 0.],\n",
       "       [0., 0., 0., 0., 0., 0.],\n",
       "       [0., 0., 0., 0., 0., 0.],\n",
       "       [0., 0., 0., 0., 0., 0.],\n",
       "       [0., 0., 0., 0., 0., 0.]])"
      ]
     },
     "execution_count": 9,
     "metadata": {},
     "output_type": "execute_result"
    }
   ],
   "source": [
    "n4 = np.zeros((6,6))\n",
    "n4"
   ]
  },
  {
   "cell_type": "code",
   "execution_count": 11,
   "id": "3cb2d7ec",
   "metadata": {},
   "outputs": [
    {
     "data": {
      "text/plain": [
       "array([[5, 5, 5],\n",
       "       [5, 5, 5],\n",
       "       [5, 5, 5]])"
      ]
     },
     "execution_count": 11,
     "metadata": {},
     "output_type": "execute_result"
    }
   ],
   "source": [
    "#full method\n",
    "n5 = np.full((3,3),(5))\n",
    "n5"
   ]
  },
  {
   "cell_type": "code",
   "execution_count": 12,
   "id": "ee6b09fe",
   "metadata": {},
   "outputs": [
    {
     "data": {
      "text/plain": [
       "array([10, 11, 12, 13, 14, 15, 16, 17, 18, 19, 20, 21, 22, 23, 24, 25, 26,\n",
       "       27, 28, 29, 30, 31, 32, 33, 34, 35, 36, 37, 38, 39, 40, 41, 42, 43,\n",
       "       44, 45, 46, 47, 48, 49, 50])"
      ]
     },
     "execution_count": 12,
     "metadata": {},
     "output_type": "execute_result"
    }
   ],
   "source": [
    "#arange method\n",
    "n6 = np.arange(10,51)\n",
    "n6"
   ]
  },
  {
   "cell_type": "code",
   "execution_count": 13,
   "id": "05135cf0",
   "metadata": {},
   "outputs": [
    {
     "data": {
      "text/plain": [
       "array([  1,  11,  21,  31,  41,  51,  61,  71,  81,  91, 101])"
      ]
     },
     "execution_count": 13,
     "metadata": {},
     "output_type": "execute_result"
    }
   ],
   "source": [
    "n7 = np.arange(1,105,10)\n",
    "n7"
   ]
  },
  {
   "cell_type": "code",
   "execution_count": 14,
   "id": "a0f08e91",
   "metadata": {},
   "outputs": [
    {
     "data": {
      "text/plain": [
       "array([918, 150, 348, 311, 817, 841, 848, 158, 147, 970])"
      ]
     },
     "execution_count": 14,
     "metadata": {},
     "output_type": "execute_result"
    }
   ],
   "source": [
    "#random method\n",
    "n8 = np.random.randint(100,1000,10)\n",
    "n8"
   ]
  },
  {
   "cell_type": "code",
   "execution_count": 15,
   "id": "bbce0472",
   "metadata": {},
   "outputs": [
    {
     "data": {
      "text/plain": [
       "array([[1, 2, 3],\n",
       "       [4, 5, 6]])"
      ]
     },
     "execution_count": 15,
     "metadata": {},
     "output_type": "execute_result"
    }
   ],
   "source": [
    "#shape method\n",
    "n9 = np.array([[1,2,3],[4,5,6]])\n",
    "n9"
   ]
  },
  {
   "cell_type": "code",
   "execution_count": 16,
   "id": "fe00e6a7",
   "metadata": {},
   "outputs": [
    {
     "data": {
      "text/plain": [
       "(2, 3)"
      ]
     },
     "execution_count": 16,
     "metadata": {},
     "output_type": "execute_result"
    }
   ],
   "source": [
    "n9.shape"
   ]
  },
  {
   "cell_type": "code",
   "execution_count": 18,
   "id": "344d197a",
   "metadata": {},
   "outputs": [
    {
     "data": {
      "text/plain": [
       "array([[1, 2],\n",
       "       [3, 4],\n",
       "       [5, 6]])"
      ]
     },
     "execution_count": 18,
     "metadata": {},
     "output_type": "execute_result"
    }
   ],
   "source": [
    "n9.shape = (3,2)\n",
    "n9"
   ]
  },
  {
   "cell_type": "code",
   "execution_count": 7,
   "id": "1b96ed0f",
   "metadata": {},
   "outputs": [],
   "source": [
    "#stacking operations\n",
    "n10 = np.array([10,20,30])\n",
    "n11 = np.array([100,200,300])"
   ]
  },
  {
   "cell_type": "code",
   "execution_count": 4,
   "id": "4b5a5953",
   "metadata": {},
   "outputs": [
    {
     "data": {
      "text/plain": [
       "array([[ 10,  20,  30],\n",
       "       [100, 200, 300]])"
      ]
     },
     "execution_count": 4,
     "metadata": {},
     "output_type": "execute_result"
    }
   ],
   "source": [
    "np.vstack((n10,n11))"
   ]
  },
  {
   "cell_type": "code",
   "execution_count": 5,
   "id": "1564046b",
   "metadata": {},
   "outputs": [
    {
     "data": {
      "text/plain": [
       "array([ 10,  20,  30, 100, 200, 300])"
      ]
     },
     "execution_count": 5,
     "metadata": {},
     "output_type": "execute_result"
    }
   ],
   "source": [
    "np.hstack((n10,n11))"
   ]
  },
  {
   "cell_type": "code",
   "execution_count": 6,
   "id": "7de05be8",
   "metadata": {},
   "outputs": [
    {
     "data": {
      "text/plain": [
       "array([[ 10, 100],\n",
       "       [ 20, 200],\n",
       "       [ 30, 300]])"
      ]
     },
     "execution_count": 6,
     "metadata": {},
     "output_type": "execute_result"
    }
   ],
   "source": [
    "np.column_stack((n10,n11))"
   ]
  },
  {
   "cell_type": "code",
   "execution_count": 8,
   "id": "8a78b2e6",
   "metadata": {},
   "outputs": [],
   "source": [
    "#intersection method\n",
    "n12 = np.array([10,20,30,40,50,60])\n",
    "n13 = np.array([50,60,70,80,90])"
   ]
  },
  {
   "cell_type": "code",
   "execution_count": 11,
   "id": "293b0da0",
   "metadata": {},
   "outputs": [
    {
     "data": {
      "text/plain": [
       "array([50, 60])"
      ]
     },
     "execution_count": 11,
     "metadata": {},
     "output_type": "execute_result"
    }
   ],
   "source": [
    "np.intersect1d(n12,n13)"
   ]
  },
  {
   "cell_type": "code",
   "execution_count": 12,
   "id": "876d10f8",
   "metadata": {},
   "outputs": [
    {
     "data": {
      "text/plain": [
       "array([10, 20, 30, 40])"
      ]
     },
     "execution_count": 12,
     "metadata": {},
     "output_type": "execute_result"
    }
   ],
   "source": [
    "np.setdiff1d(n12,n13)"
   ]
  },
  {
   "cell_type": "code",
   "execution_count": 13,
   "id": "bf08ea0a",
   "metadata": {},
   "outputs": [
    {
     "data": {
      "text/plain": [
       "array([70, 80, 90])"
      ]
     },
     "execution_count": 13,
     "metadata": {},
     "output_type": "execute_result"
    }
   ],
   "source": [
    "np.setdiff1d(n13,n12)"
   ]
  },
  {
   "cell_type": "code",
   "execution_count": 3,
   "id": "f46c1ea6",
   "metadata": {},
   "outputs": [],
   "source": [
    "#addition of numpy arrays\n",
    "n14 = np.array([10,20])\n",
    "n15 = np.array([30,40])"
   ]
  },
  {
   "cell_type": "code",
   "execution_count": 4,
   "id": "12538acf",
   "metadata": {},
   "outputs": [
    {
     "data": {
      "text/plain": [
       "100"
      ]
     },
     "execution_count": 4,
     "metadata": {},
     "output_type": "execute_result"
    }
   ],
   "source": [
    "np.sum([n14,n15])"
   ]
  },
  {
   "cell_type": "code",
   "execution_count": 5,
   "id": "5386edc0",
   "metadata": {},
   "outputs": [
    {
     "data": {
      "text/plain": [
       "array([40, 60])"
      ]
     },
     "execution_count": 5,
     "metadata": {},
     "output_type": "execute_result"
    }
   ],
   "source": [
    "np.sum([n14,n15],axis=0)"
   ]
  },
  {
   "cell_type": "code",
   "execution_count": 6,
   "id": "2498c7c6",
   "metadata": {},
   "outputs": [
    {
     "data": {
      "text/plain": [
       "array([30, 70])"
      ]
     },
     "execution_count": 6,
     "metadata": {},
     "output_type": "execute_result"
    }
   ],
   "source": [
    "np.sum([n14,n15],axis=1)"
   ]
  },
  {
   "cell_type": "code",
   "execution_count": 7,
   "id": "31442b2c",
   "metadata": {},
   "outputs": [],
   "source": [
    "n16 = np.array([10,20,30])"
   ]
  },
  {
   "cell_type": "code",
   "execution_count": 8,
   "id": "d4f3df88",
   "metadata": {},
   "outputs": [
    {
     "data": {
      "text/plain": [
       "array([11, 21, 31])"
      ]
     },
     "execution_count": 8,
     "metadata": {},
     "output_type": "execute_result"
    }
   ],
   "source": [
    "n16 + 1"
   ]
  },
  {
   "cell_type": "code",
   "execution_count": 9,
   "id": "5f1bc41c",
   "metadata": {},
   "outputs": [
    {
     "data": {
      "text/plain": [
       "array([ 9, 19, 29])"
      ]
     },
     "execution_count": 9,
     "metadata": {},
     "output_type": "execute_result"
    }
   ],
   "source": [
    "n16 - 1"
   ]
  },
  {
   "cell_type": "code",
   "execution_count": 10,
   "id": "94bb747d",
   "metadata": {},
   "outputs": [
    {
     "data": {
      "text/plain": [
       "array([100, 200, 300])"
      ]
     },
     "execution_count": 10,
     "metadata": {},
     "output_type": "execute_result"
    }
   ],
   "source": [
    "n16 * 10"
   ]
  },
  {
   "cell_type": "code",
   "execution_count": 11,
   "id": "0c940652",
   "metadata": {},
   "outputs": [
    {
     "data": {
      "text/plain": [
       "array([ 5., 10., 15.])"
      ]
     },
     "execution_count": 11,
     "metadata": {},
     "output_type": "execute_result"
    }
   ],
   "source": [
    "n16 / 2"
   ]
  },
  {
   "cell_type": "code",
   "execution_count": 12,
   "id": "a7f90710",
   "metadata": {},
   "outputs": [
    {
     "data": {
      "text/plain": [
       "20.0"
      ]
     },
     "execution_count": 12,
     "metadata": {},
     "output_type": "execute_result"
    }
   ],
   "source": [
    "np.mean(n16)"
   ]
  },
  {
   "cell_type": "code",
   "execution_count": 13,
   "id": "9e85c5e6",
   "metadata": {},
   "outputs": [
    {
     "data": {
      "text/plain": [
       "20.0"
      ]
     },
     "execution_count": 13,
     "metadata": {},
     "output_type": "execute_result"
    }
   ],
   "source": [
    "np.median(n16)"
   ]
  },
  {
   "cell_type": "code",
   "execution_count": 14,
   "id": "3706d0b3",
   "metadata": {},
   "outputs": [
    {
     "data": {
      "text/plain": [
       "8.16496580927726"
      ]
     },
     "execution_count": 14,
     "metadata": {},
     "output_type": "execute_result"
    }
   ],
   "source": [
    "np.std(n16)"
   ]
  },
  {
   "cell_type": "code",
   "execution_count": 15,
   "id": "8afa6126",
   "metadata": {},
   "outputs": [],
   "source": [
    "n17 = np.array([10,20,30,40,50,60])"
   ]
  },
  {
   "cell_type": "code",
   "execution_count": 16,
   "id": "2358948f",
   "metadata": {},
   "outputs": [],
   "source": [
    "np.save('my_array',n17)"
   ]
  },
  {
   "cell_type": "code",
   "execution_count": 17,
   "id": "53161217",
   "metadata": {},
   "outputs": [],
   "source": [
    "n18 = np.load('my_array.npy')"
   ]
  },
  {
   "cell_type": "code",
   "execution_count": 18,
   "id": "3b7b71e5",
   "metadata": {},
   "outputs": [
    {
     "data": {
      "text/plain": [
       "array([10, 20, 30, 40, 50, 60])"
      ]
     },
     "execution_count": 18,
     "metadata": {},
     "output_type": "execute_result"
    }
   ],
   "source": [
    "n18"
   ]
  },
  {
   "cell_type": "code",
   "execution_count": null,
   "id": "da0d56c3",
   "metadata": {},
   "outputs": [],
   "source": []
  }
 ],
 "metadata": {
  "kernelspec": {
   "display_name": "Python 3 (ipykernel)",
   "language": "python",
   "name": "python3"
  },
  "language_info": {
   "codemirror_mode": {
    "name": "ipython",
    "version": 3
   },
   "file_extension": ".py",
   "mimetype": "text/x-python",
   "name": "python",
   "nbconvert_exporter": "python",
   "pygments_lexer": "ipython3",
   "version": "3.11.5"
  }
 },
 "nbformat": 4,
 "nbformat_minor": 5
}
